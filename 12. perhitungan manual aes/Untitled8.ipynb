{
 "cells": [
  {
   "cell_type": "code",
   "execution_count": 2,
   "id": "1d154175",
   "metadata": {},
   "outputs": [
    {
     "name": "stdout",
     "output_type": "stream",
     "text": [
      "Cipher text: b'\\xa5\\xc6*6B\\xd0\\x9c\\xcb}\\xa5\\x07_W'\n",
      "Plain text: Kelompok rawr\n"
     ]
    }
   ],
   "source": [
    "from Crypto.Cipher import AES\n",
    "from Crypto.Protocol.KDF import PBKDF2\n",
    "from Crypto.Random import get_random_bytes\n",
    "\n",
    "\n",
    "salt = get_random_bytes(16)\n",
    "\n",
    "\n",
    "passphrase = \"manisrejo\"\n",
    "key = PBKDF2(passphrase, salt, dkLen=32, count=1000000)  \n",
    "\n",
    "\n",
    "cipher = AES.new(key, AES.MODE_EAX)\n",
    "\n",
    "\n",
    "data = \"Kelompok rawr\".encode()\n",
    "\n",
    "\n",
    "nonce = cipher.nonce\n",
    "\n",
    "\n",
    "ciphertext = cipher.encrypt(data)\n",
    "\n",
    "\n",
    "print(\"Cipher text:\", ciphertext)\n",
    "\n",
    "\n",
    "cipher = AES.new(key, AES.MODE_EAX, nonce=nonce)\n",
    "\n",
    "\n",
    "plaintext = cipher.decrypt(ciphertext)\n",
    "print(\"Plain text:\", plaintext.decode())"
   ]
  },
  {
   "cell_type": "code",
   "execution_count": null,
   "id": "204768af",
   "metadata": {},
   "outputs": [],
   "source": []
  }
 ],
 "metadata": {
  "kernelspec": {
   "display_name": "Python 3 (ipykernel)",
   "language": "python",
   "name": "python3"
  },
  "language_info": {
   "codemirror_mode": {
    "name": "ipython",
    "version": 3
   },
   "file_extension": ".py",
   "mimetype": "text/x-python",
   "name": "python",
   "nbconvert_exporter": "python",
   "pygments_lexer": "ipython3",
   "version": "3.9.13"
  }
 },
 "nbformat": 4,
 "nbformat_minor": 5
}
