{
 "cells": [
  {
   "cell_type": "code",
   "execution_count": 1,
   "id": "f20daec1",
   "metadata": {},
   "outputs": [
    {
     "name": "stdout",
     "output_type": "stream",
     "text": [
      "Ciphertext: SwHbUKv5uw/uYG+cgUH3TR2Sg/RHlLv0TXMmCr9hdktJIOj/dDQfxA==\n",
      "Decrypted message: Halo, ini adalah enkripsi DES SKD\n"
     ]
    }
   ],
   "source": [
    "#!/usr/bin/env python\n",
    "# coding: utf-8\n",
    "\n",
    "# In[4]:\n",
    "\n",
    "\n",
    "from Crypto.Cipher import DES\n",
    "from Crypto.Random import get_random_bytes\n",
    "from Crypto.Util.Padding import pad, unpad\n",
    "from base64 import b64encode, b64decode\n",
    "\n",
    "def encrypt_message(key, message):\n",
    "    cipher = DES.new(key, DES.MODE_ECB)\n",
    "    message = pad(message.encode(), 8)\n",
    "    ct_bytes = cipher.encrypt(message)\n",
    "    return b64encode(ct_bytes).decode('utf-8')\n",
    "\n",
    "def decrypt_message(key, ciphertext):\n",
    "    cipher = DES.new(key, DES.MODE_ECB)\n",
    "    ct = b64decode(ciphertext)\n",
    "    pt = cipher.decrypt(ct)\n",
    "    return unpad(pt, 8).decode('utf-8')\n",
    "\n",
    "# Contoh penggunaan\n",
    "key = get_random_bytes(8)  # Generate random 8-byte key\n",
    "message = \"Halo, ini adalah enkripsi DES SKD\"\n",
    "\n",
    "ciphertext = encrypt_message(key, message)\n",
    "print(\"Ciphertext:\", ciphertext)\n",
    "\n",
    "decrypted_message = decrypt_message(key, ciphertext)\n",
    "print(\"Decrypted message:\", decrypted_message)\n",
    "\n",
    "\n",
    "# In[ ]:\n",
    "\n",
    "\n",
    "\n",
    "\n",
    "\n",
    "# In[ ]:\n",
    "\n",
    "\n",
    "\n",
    "\n"
   ]
  },
  {
   "cell_type": "code",
   "execution_count": null,
   "id": "22a8072a",
   "metadata": {},
   "outputs": [],
   "source": []
  }
 ],
 "metadata": {
  "kernelspec": {
   "display_name": "Python 3 (ipykernel)",
   "language": "python",
   "name": "python3"
  },
  "language_info": {
   "codemirror_mode": {
    "name": "ipython",
    "version": 3
   },
   "file_extension": ".py",
   "mimetype": "text/x-python",
   "name": "python",
   "nbconvert_exporter": "python",
   "pygments_lexer": "ipython3",
   "version": "3.9.13"
  }
 },
 "nbformat": 4,
 "nbformat_minor": 5
}
